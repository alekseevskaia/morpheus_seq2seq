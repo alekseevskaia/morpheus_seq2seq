{
 "cells": [
  {
   "cell_type": "markdown",
   "metadata": {},
   "source": [
    "# Task Summarization"
   ]
  },
  {
   "cell_type": "code",
   "execution_count": 3,
   "metadata": {},
   "outputs": [
    {
     "ename": "ModuleNotFoundError",
     "evalue": "No module named 'morpheus_seq2seq'",
     "output_type": "error",
     "traceback": [
      "\u001b[0;31m---------------------------------------------------------------------------\u001b[0m",
      "\u001b[0;31mModuleNotFoundError\u001b[0m                       Traceback (most recent call last)",
      "\u001b[1;32m/home/alekseevskaia/morpheus_seq2seq/run_attack.ipynb Cell 2\u001b[0m line \u001b[0;36m1\n\u001b[0;32m----> <a href='vscode-notebook-cell://ssh-remote%2Birina/home/alekseevskaia/morpheus_seq2seq/run_attack.ipynb#W0sdnNjb2RlLXJlbW90ZQ%3D%3D?line=0'>1</a>\u001b[0m \u001b[39mfrom\u001b[39;00m \u001b[39mmorpheus_seq2seq\u001b[39;00m\u001b[39m.\u001b[39;00m\u001b[39mmorpheus\u001b[39;00m \u001b[39mimport\u001b[39;00m MorpheusHuggingfaceSeq2seq \n\u001b[1;32m      <a href='vscode-notebook-cell://ssh-remote%2Birina/home/alekseevskaia/morpheus_seq2seq/run_attack.ipynb#W0sdnNjb2RlLXJlbW90ZQ%3D%3D?line=2'>3</a>\u001b[0m test_morph_summ \u001b[39m=\u001b[39m MorpheusHuggingfaceSeq2seq(\u001b[39m'\u001b[39m\u001b[39mfacebook/bart-large-cnn\u001b[39m\u001b[39m'\u001b[39m)\n\u001b[1;32m      <a href='vscode-notebook-cell://ssh-remote%2Birina/home/alekseevskaia/morpheus_seq2seq/run_attack.ipynb#W0sdnNjb2RlLXJlbW90ZQ%3D%3D?line=3'>4</a>\u001b[0m source \u001b[39m=\u001b[39m  \u001b[39m\"\u001b[39m\u001b[39mThe tower is 324 metres (1,063 ft) tall, about the same height as an 81-storey building, and the tallest structure in Paris. Its base is square, measuring 125 metres (410 ft) on each side. During its construction, the Eiffel Tower surpassed the Washington Monument to become the tallest man-made structure in the world, a title it held for 41 years until the Chrysler Building in New York City was finished in 1930. It was the first structure to reach a height of 300 metres. Due to the addition of a broadcasting aerial at the top of the tower in 1957, it is now taller than the Chrysler Building by 5.2 metres (17 ft). Excluding transmitters, the Eiffel Tower is the second tallest free-standing structure in France after the Millau Viaduct.\u001b[39m\u001b[39m\"\u001b[39m\n",
      "\u001b[0;31mModuleNotFoundError\u001b[0m: No module named 'morpheus_seq2seq'"
     ]
    }
   ],
   "source": [
    "from morpheus import MorpheusHuggingfaceSeq2seq \n",
    "\n",
    "test_morph_summ = MorpheusHuggingfaceSeq2seq('facebook/bart-large-cnn')\n",
    "source =  \"The tower is 324 metres (1,063 ft) tall, about the same height as an 81-storey building, and the tallest structure in Paris. Its base is square, measuring 125 metres (410 ft) on each side. During its construction, the Eiffel Tower surpassed the Washington Monument to become the tallest man-made structure in the world, a title it held for 41 years until the Chrysler Building in New York City was finished in 1930. It was the first structure to reach a height of 300 metres. Due to the addition of a broadcasting aerial at the top of the tower in 1957, it is now taller than the Chrysler Building by 5.2 metres (17 ft). Excluding transmitters, the Eiffel Tower is the second tallest free-standing structure in France after the Millau Viaduct.\"\n",
    "ref = \"The tower is 324 metres (1,063 ft) tall, about the same height as an 81-storey building. Its base is square, measuring 125 metres (410 ft) on each side. During its construction, the Eiffel Tower surpassed the Washington Monument to become the tallest man-made structure in the world.\"\n",
    "\n",
    "print(test_morph_summ.morph(source, ref))"
   ]
  },
  {
   "cell_type": "markdown",
   "metadata": {},
   "source": [
    "# Task Machine Translation"
   ]
  },
  {
   "cell_type": "code",
   "execution_count": 2,
   "metadata": {},
   "outputs": [
    {
     "ename": "ImportError",
     "evalue": "attempted relative import with no known parent package",
     "output_type": "error",
     "traceback": [
      "\u001b[0;31m---------------------------------------------------------------------------\u001b[0m",
      "\u001b[0;31mImportError\u001b[0m                               Traceback (most recent call last)",
      "\u001b[1;32m/home/alekseevskaia/morpheus_seq2seq/run_attack.ipynb Cell 4\u001b[0m line \u001b[0;36m1\n\u001b[0;32m----> <a href='vscode-notebook-cell://ssh-remote%2Birina/home/alekseevskaia/morpheus_seq2seq/run_attack.ipynb#W5sdnNjb2RlLXJlbW90ZQ%3D%3D?line=0'>1</a>\u001b[0m \u001b[39mfrom\u001b[39;00m \u001b[39m.\u001b[39;00m\u001b[39mmorpheus\u001b[39;00m \u001b[39mimport\u001b[39;00m MorpheusHuggingfaceSeq2seq \n\u001b[1;32m      <a href='vscode-notebook-cell://ssh-remote%2Birina/home/alekseevskaia/morpheus_seq2seq/run_attack.ipynb#W5sdnNjb2RlLXJlbW90ZQ%3D%3D?line=2'>3</a>\u001b[0m test_morph_summ \u001b[39m=\u001b[39m MorpheusHuggingfaceSeq2seq(\u001b[39m\"\u001b[39m\u001b[39mHelsinki-NLP/opus-mt-en-es\u001b[39m\u001b[39m\"\u001b[39m)\n\u001b[1;32m      <a href='vscode-notebook-cell://ssh-remote%2Birina/home/alekseevskaia/morpheus_seq2seq/run_attack.ipynb#W5sdnNjb2RlLXJlbW90ZQ%3D%3D?line=3'>4</a>\u001b[0m source \u001b[39m=\u001b[39m \u001b[39m\"\u001b[39m\u001b[39mMy name is Wolfgang and I live in Berlin\u001b[39m\u001b[39m\"\u001b[39m\n",
      "\u001b[0;31mImportError\u001b[0m: attempted relative import with no known parent package"
     ]
    }
   ],
   "source": [
    "from .morpheus import MorpheusHuggingfaceSeq2seq \n",
    "\n",
    "test_morph_summ = MorpheusHuggingfaceSeq2seq(\"Helsinki-NLP/opus-mt-en-es\")\n",
    "source = \"My name is Wolfgang and I live in Berlin\"\n",
    "ref = \"Me llamo Wolfgang y vivo en Berlin\"\n",
    "print(test_morph_summ.morph(source, ref))"
   ]
  },
  {
   "cell_type": "code",
   "execution_count": null,
   "metadata": {},
   "outputs": [],
   "source": []
  }
 ],
 "metadata": {
  "kernelspec": {
   "display_name": ".venv",
   "language": "python",
   "name": "python3"
  },
  "language_info": {
   "codemirror_mode": {
    "name": "ipython",
    "version": 3
   },
   "file_extension": ".py",
   "mimetype": "text/x-python",
   "name": "python",
   "nbconvert_exporter": "python",
   "pygments_lexer": "ipython3",
   "version": "3.10.12"
  }
 },
 "nbformat": 4,
 "nbformat_minor": 2
}
